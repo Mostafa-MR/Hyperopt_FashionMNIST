{
 "cells": [
  {
   "cell_type": "markdown",
   "metadata": {},
   "source": [
    "# Bayesian Optimization\n",
    "In this example a bayesian framework is defined to tune hyperparameter of a CNN using hyperopt library developed https://github.com/hyperopt\n",
    "Bayesian optimization is a seuential model-based approach to solving problems. In particular, we prescribe a prior belief over the possible objective functions and then sequentially refine this model as data are observed via our updated beliefs-given data-on the likely ojective function we are optimizing.\n",
    "https://www.cs.ox.ac.uk/people/nando.defreitas/publications/BayesOptLoop.pdf\n",
    "This blog summarises bayesian optimization very thoroughly.\n",
    "https://medium.com/vantageai/bringing-back-the-time-spent-on-hyperparameter-tuning-with-bayesian-optimisation-2e21a3198afb\n",
    "\n",
    "The CNN is used to model fashion MNIST dataset."
   ]
  },
  {
   "cell_type": "markdown",
   "metadata": {},
   "source": [
    "## Loading fashion MNIST dataset and defining CNN\n",
    "In this section we load the fashion mnist dataset which contains 10 classes of objects, and a CNN is defined for classification"
   ]
  },
  {
   "cell_type": "code",
   "execution_count": 46,
   "metadata": {},
   "outputs": [],
   "source": [
    "# baseline cnn model for fashion mnist\n",
    "import numpy as np\n",
    "import pandas as pd\n",
    "import random\n",
    "import seaborn as sns\n",
    "import time\n",
    "from numpy import mean\n",
    "from numpy import std\n",
    "from matplotlib import pyplot\n",
    "from sklearn.model_selection import KFold\n",
    "from keras.datasets import fashion_mnist\n",
    "from keras.utils import to_categorical\n",
    "from keras.models import Sequential\n",
    "from keras.layers import Conv2D\n",
    "from keras.layers import MaxPooling2D\n",
    "from keras.layers import Dense\n",
    "from keras.layers import Flatten\n",
    "from keras.optimizers import SGD"
   ]
  },
  {
   "cell_type": "code",
   "execution_count": 47,
   "metadata": {},
   "outputs": [],
   "source": [
    "# load train and test dataset\n",
    "def load_dataset():\n",
    "\t# load dataset\n",
    "\t(trainX, trainY), (testX, testY) = fashion_mnist.load_data()\n",
    "\t# reshape dataset to have a single channel\n",
    "\ttrainX = trainX.reshape((trainX.shape[0], 28, 28, 1))\n",
    "\ttestX = testX.reshape((testX.shape[0], 28, 28, 1))\n",
    "\t# one hot encode target values\n",
    "\ttrainY = to_categorical(trainY)\n",
    "\ttestY = to_categorical(testY)\n",
    "\treturn trainX, trainY, testX, testY"
   ]
  },
  {
   "cell_type": "code",
   "execution_count": 48,
   "metadata": {},
   "outputs": [],
   "source": [
    "# scale pixels\n",
    "def prep_pixels(train, test):\n",
    "\t# convert from integers to floats\n",
    "\ttrain_norm = train.astype('float32')\n",
    "\ttest_norm = test.astype('float32')\n",
    "\t# normalize to range 0-1\n",
    "\ttrain_norm = train_norm / 255.0\n",
    "\ttest_norm = test_norm / 255.0\n",
    "\t# return normalized images\n",
    "\treturn train_norm, test_norm\n"
   ]
  },
  {
   "cell_type": "code",
   "execution_count": 166,
   "metadata": {},
   "outputs": [],
   "source": [
    "# define cnn model\n",
    "def define_model(params):\n",
    "\tmodel = Sequential()\n",
    "\tmodel.add(Conv2D(filters = int(params['Kernels1']), kernel_size= (int(params['kernel_size1']),int(params['kernel_size1'])), activation='relu', kernel_initializer='he_uniform', input_shape=(28, 28, 1)))\n",
    "\tmodel.add(MaxPooling2D((2, 2)))\n",
    "\tmodel.add(Flatten())\n",
    "\tmodel.add(Dense(units = int(params['units1']), activation='relu', kernel_initializer='he_uniform'))\n",
    "\tmodel.add(Dense(10, activation='softmax'))\n",
    "\t# compile model\n",
    "\topt = SGD(lr=params['LR'], momentum=0.9)\n",
    "\tmodel.compile(optimizer=opt, loss='categorical_crossentropy', metrics=['accuracy'])\n",
    "\treturn model"
   ]
  },
  {
   "cell_type": "code",
   "execution_count": 167,
   "metadata": {},
   "outputs": [],
   "source": [
    "def evaluate_model(Model, dataX, dataY, n_folds):\n",
    "\tscores, histories = list(), list()\n",
    "\t# prepare cross validation\n",
    "\tkfold = KFold(n_folds, shuffle=True, random_state=1)\n",
    "\t# enumerate splits\n",
    "\tfor train_ix, test_ix in kfold.split(dataX):\n",
    "\n",
    "\t\t# select rows for train and test\n",
    "\t\ttrainX, trainY, testX, testY = dataX[train_ix], dataY[train_ix], dataX[test_ix], dataY[test_ix]\n",
    "\t\t# fit model\n",
    "\t\thistory = Model.fit(trainX, trainY, epochs=10, batch_size=32, validation_data=(testX, testY), verbose=0)\n",
    "\t\t# evaluate model\n",
    "\t\t_, acc = Model.evaluate(testX, testY, verbose=0)\n",
    "\t\tprint('> %.3f' % (acc * 100.0))\n",
    "\t\t# append scores\n",
    "\t\tscores.append(acc)\n",
    "\t\thistories.append(history)\n",
    "\treturn scores, histories"
   ]
  },
  {
   "cell_type": "markdown",
   "metadata": {},
   "source": [
    "## Hyper parameter tuning\n",
    "Here the hyper parameter grid is defined to be used by the bayesian framework. They will be jointly discovered as optimum design choice. This framework has two main ingredients:\n",
    "### 1) Probabilistic surrogate model:\n",
    "This model consists of a prior distribution that captures the behaviour of the unknown objective function from the designer perspective, and an observation model that describes the data generation.\n",
    "### 2) Loss function\n",
    "It is a sequence of queries to be minimized."
   ]
  },
  {
   "cell_type": "code",
   "execution_count": 168,
   "metadata": {},
   "outputs": [],
   "source": [
    "# Defining the hyper parameter space\n",
    "from hyperopt import fmin, tpe, hp, STATUS_OK, Trials\n",
    "from hyperopt.pyll import scope\n",
    "from hyperopt.pyll.stochastic import sample\n",
    "#%% Hyper parameter tuning\n",
    "param_hyperopt = {\n",
    "    'LR': hp.loguniform('lr', np.log(0.01), np.log(1)),\n",
    "    'Kernels1': hp.uniform('Kernels1', 8, 32),\n",
    "    'kernel_size1': hp.quniform('kernel_size', 3, 5, 3),\n",
    "    'units1': hp.quniform('units', 50, 100, 4)\n",
    "    }\n",
    "param_space = param_hyperopt\n"
   ]
  },
  {
   "cell_type": "markdown",
   "metadata": {},
   "source": [
    "## Seting up the hyperopt\n",
    "After defining the parameter space, the hyperopt need to be initialized. One need to consider that the bayesian process always maximize the posteriori, therefore if one is after minimizing a function that function could be defined as (1 - of interest object). The maximization of the posteriori is done iteratively through the below process: \n",
    "\n",
    "For each iteration:\n",
    "\n",
    "1) Find the set of hyperparameter values that maximise the Expected Improvement by optimising the selection function over the surrogate function.\n",
    "\n",
    "2) Hand this hyperparameter combination to the objective function for evaluation — and retrieve the corresponding score.\n",
    "\n",
    "3) Update the surrogate function along the feedback of the objective function by applying Bayes’ theorem."
   ]
  },
  {
   "cell_type": "code",
   "execution_count": 169,
   "metadata": {},
   "outputs": [],
   "source": [
    "#%% Hyperopt function for CNN fashion MNIST\n",
    "def hyperopt(param_space, X_train, y_train, X_test, y_test, num_eval):\n",
    "    \n",
    "    start = time.time()\n",
    "    \n",
    "    def objective_function(params):\n",
    "        clf = define_model(params)\n",
    "        scores, histories = evaluate_model(clf, trainX, trainY, n_folds = 5)\n",
    "        score = np.mean(scores)\n",
    "        return {'loss': -score, 'status': STATUS_OK}\n",
    "\n",
    "    trials = Trials()\n",
    "    best_param = fmin(objective_function, \n",
    "                      param_space, \n",
    "                      algo=tpe.suggest, \n",
    "                      max_evals=num_eval, \n",
    "                      trials=trials,\n",
    "                      rstate= np.random.RandomState(1))\n",
    "    loss = [x['result']['loss'] for x in trials.trials]\n",
    "    \n",
    "    best_param_values = [x for x in best_param.values()]\n",
    "    \n",
    "    best_param_dic = {'LR' : best_param_values[0],\n",
    "                     'Kernels1' : best_param_values[1],\n",
    "                     'kernel_size1' : best_param_values[2],\n",
    "                     'units1' : best_param_values[3]}\n",
    "    \n",
    "    clf_best = define_model(best_param_dic)\n",
    "    \n",
    "    clf_best.fit(trainX, trainY)\n",
    "    Y_pred = clf_best.predict(testX)\n",
    "    Y_pred = np.rint(Y_pred)\n",
    "    from sklearn.metrics import accuracy_score\n",
    "    accuracy_score(testY, Y_pred)\n",
    "    \n",
    "    print(\"\")\n",
    "    print(\"##### Results\")\n",
    "    print(\"Score best parameters: \", min(loss)*-1)\n",
    "    print(\"Best parameters: \", best_param)\n",
    "    print(\"Test Score: \", accuracy_score(testY, Y_pred))\n",
    "    print(\"Time elapsed: \", time.time() - start)\n",
    "    print(\"Parameter combinations evaluated: \", num_eval)\n",
    "    \n",
    "    return trials"
   ]
  },
  {
   "cell_type": "code",
   "execution_count": null,
   "metadata": {},
   "outputs": [
    {
     "name": "stdout",
     "output_type": "stream",
     "text": [
      "> 10.125                                            \n",
      "  0%|          | 0/15 [01:14<?, ?it/s, best loss: ?]"
     ]
    }
   ],
   "source": [
    "trainX, trainY, testX, testY = load_dataset()\n",
    "# prepare pixel data\n",
    "trainX, testX = prep_pixels(trainX, testX)\n",
    "# Hyper parameter tuning\n",
    "num_eval = 15\n",
    "results_hyperopt = hyperopt(param_hyperopt, trainX, trainY, testX, testY, num_eval)"
   ]
  },
  {
   "cell_type": "code",
   "execution_count": null,
   "metadata": {},
   "outputs": [],
   "source": [
    "# Retrieve Hyperopt scores\n",
    "\n",
    "hyperopt_scores = [trial['result']['loss']*-1 for trial in results_hyperopt.trials]\n",
    "hyperopt_scores = np.maximum.accumulate(hyperopt_scores)"
   ]
  }
 ],
 "metadata": {
  "kernelspec": {
   "display_name": "Python 3",
   "language": "python",
   "name": "python3"
  },
  "language_info": {
   "codemirror_mode": {
    "name": "ipython",
    "version": 3
   },
   "file_extension": ".py",
   "mimetype": "text/x-python",
   "name": "python",
   "nbconvert_exporter": "python",
   "pygments_lexer": "ipython3",
   "version": "3.7.1"
  }
 },
 "nbformat": 4,
 "nbformat_minor": 2
}
